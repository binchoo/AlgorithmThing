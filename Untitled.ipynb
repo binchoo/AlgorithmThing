{
 "cells": [
  {
   "cell_type": "code",
   "execution_count": 413,
   "metadata": {},
   "outputs": [],
   "source": [
    "import numpy as np\n",
    "        \n",
    "def minimumSwaps(arr) :\n",
    "    \n",
    "    arr_index = {}\n",
    "    for i in range(len(arr)):\n",
    "        arr_index[arr[i]] = i\n",
    "        \n",
    "    swap = 0\n",
    "    for i in range(len(arr) - 1) :\n",
    "        ideal = i+1\n",
    "        if arr[i] != ideal:\n",
    "            find_idx = arr_index[ideal]\n",
    "            #value swap\n",
    "            tmp = arr[i]\n",
    "            arr[i] = arr[find_idx]\n",
    "            arr[find_idx] = tmp\n",
    "            #index swap\n",
    "            arr_index[tmp] = find_idx\n",
    "            arr_index[arr[i]] = i\n",
    "            swap += 1\n",
    "    return swap\n"
   ]
  },
  {
   "cell_type": "code",
   "execution_count": 414,
   "metadata": {},
   "outputs": [],
   "source": [
    "arr = [2,3,4,1,5]"
   ]
  },
  {
   "cell_type": "code",
   "execution_count": 415,
   "metadata": {},
   "outputs": [
    {
     "name": "stdout",
     "output_type": "stream",
     "text": [
      "0 3 [1, 3, 4, 2, 5]\n",
      "1 3 [1, 2, 4, 3, 5]\n",
      "2 3 [1, 2, 3, 4, 5]\n",
      "3\n"
     ]
    },
    {
     "data": {
      "text/plain": [
       "[1, 2, 3, 4, 5]"
      ]
     },
     "execution_count": 415,
     "metadata": {},
     "output_type": "execute_result"
    }
   ],
   "source": [
    "print(minimumSwaps(arr))\n",
    "arr"
   ]
  },
  {
   "cell_type": "code",
   "execution_count": 430,
   "metadata": {},
   "outputs": [],
   "source": [
    "c = [1,5,3,7,0]\n",
    "\n",
    "def flatlandSpaceStations(n, c):\n",
    "    if n == len(c) :\n",
    "        return 0\n",
    "    else :\n",
    "        c = sorted(c)\n",
    "        left_max = c[0]\n",
    "        mid_max = 0\n",
    "        right_max = (n - 1) - c[len(c)-1]\n",
    "        for i in range(0, len(c) - 1) :\n",
    "            dist_between = c[i+1] - c[i]\n",
    "            if dist_between > mid_max :\n",
    "                mid_max = dist_between\n",
    "        return max((left_max, (int)(mid_max/ 2), right_max))"
   ]
  },
  {
   "cell_type": "code",
   "execution_count": 431,
   "metadata": {},
   "outputs": [
    {
     "data": {
      "text/plain": [
       "36129"
      ]
     },
     "execution_count": 431,
     "metadata": {},
     "output_type": "execute_result"
    }
   ],
   "source": [
    "flatlandSpaceStations(99989,[75453, 36129, 64502, 46817])"
   ]
  },
  {
   "cell_type": "code",
   "execution_count": null,
   "metadata": {},
   "outputs": [],
   "source": []
  }
 ],
 "metadata": {
  "kernelspec": {
   "display_name": "Python 3",
   "language": "python",
   "name": "python3"
  },
  "language_info": {
   "codemirror_mode": {
    "name": "ipython",
    "version": 3
   },
   "file_extension": ".py",
   "mimetype": "text/x-python",
   "name": "python",
   "nbconvert_exporter": "python",
   "pygments_lexer": "ipython3",
   "version": "3.5.6"
  }
 },
 "nbformat": 4,
 "nbformat_minor": 2
}
