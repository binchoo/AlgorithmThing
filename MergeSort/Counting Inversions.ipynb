{
 "cells": [
  {
   "cell_type": "code",
   "execution_count": 199,
   "metadata": {},
   "outputs": [],
   "source": [
    "def merge(arr1, arr2) :\n",
    "    global swap_count\n",
    "    if arr1[-1] > arr2[0] :\n",
    "        tmp = arr2[0]\n",
    "        arr2[0] = arr1[-1]\n",
    "        arr1[-1] = tmp\n",
    "        swap_count += 1\n",
    "        merged_array = arr1 + arr2\n",
    "        merged_array = merge_sort(merged_array, 0, len(merged_array) - 1)\n",
    "    else :\n",
    "        merged_array = arr1 + arr2\n",
    "    return merged_array\n",
    "\n",
    "def merge_sort(arr, p, q) :\n",
    "    if p < q :\n",
    "        k = (int)((p+q)/2)\n",
    "        left = merge_sort(arr, p, k)\n",
    "        right = merge_sort(arr, k + 1, q)\n",
    "        return merge(left, right)\n",
    "    else :\n",
    "        return [arr[q]]\n",
    "\n",
    "def countInversions(arr):\n",
    "    global swap_count\n",
    "    swap_count = 0\n",
    "    merge_sort(arr, 0, len(arr) - 1)\n",
    "    return swap_count"
   ]
  },
  {
   "cell_type": "code",
   "execution_count": 200,
   "metadata": {},
   "outputs": [
    {
     "data": {
      "text/plain": [
       "15"
      ]
     },
     "execution_count": 200,
     "metadata": {},
     "output_type": "execute_result"
    }
   ],
   "source": [
    "arr = [97,10,22,30,35,13,25,24]\n",
    "countInversions(arr)"
   ]
  }
 ],
 "metadata": {
  "kernelspec": {
   "display_name": "Python 3",
   "language": "python",
   "name": "python3"
  },
  "language_info": {
   "codemirror_mode": {
    "name": "ipython",
    "version": 3
   },
   "file_extension": ".py",
   "mimetype": "text/x-python",
   "name": "python",
   "nbconvert_exporter": "python",
   "pygments_lexer": "ipython3",
   "version": "3.5.6"
  }
 },
 "nbformat": 4,
 "nbformat_minor": 2
}
