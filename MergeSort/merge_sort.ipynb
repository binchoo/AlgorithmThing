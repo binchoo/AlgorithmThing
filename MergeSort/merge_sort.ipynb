{
 "cells": [
  {
   "cell_type": "code",
   "execution_count": 11,
   "metadata": {},
   "outputs": [],
   "source": [
    "def merge(arr1, arr2) :\n",
    "    \n",
    "    select1 = select2 = 0\n",
    "    merged_array = []\n",
    "    while select1 < len(arr1) and select2 < len(arr2) :\n",
    "        if arr1[select1] < arr2[select2] :\n",
    "            merged_array.append(arr1[select1])\n",
    "            select1 += 1\n",
    "        else :\n",
    "            merged_array.append(arr2[select2])\n",
    "            select2 += 1\n",
    "            \n",
    "    if select1 < len(arr1) :\n",
    "        merged_array.extend(arr1[select1:])\n",
    "    else :\n",
    "        merged_array.extend(arr2[select2:])\n",
    "    return merged_array\n",
    "\n",
    "def merge_sort(arr, p, q) :\n",
    "    if(p < q) :\n",
    "        k = (int)((p+q)/2)\n",
    "        left = merge_sort(arr, p, k)\n",
    "        right = merge_sort(arr, k + 1, q)\n",
    "        return merge(left, right)\n",
    "    else :\n",
    "        return [arr[q]]"
   ]
  },
  {
   "cell_type": "code",
   "execution_count": 15,
   "metadata": {},
   "outputs": [
    {
     "data": {
      "text/plain": [
       "[1, 2, 4, 5, 6]"
      ]
     },
     "execution_count": 15,
     "metadata": {},
     "output_type": "execute_result"
    }
   ],
   "source": [
    "merge([4,5,6], [1,2])"
   ]
  },
  {
   "cell_type": "code",
   "execution_count": 18,
   "metadata": {},
   "outputs": [],
   "source": [
    "import numpy as np\n",
    "arr = [2, 1, 3, 1, 2]"
   ]
  },
  {
   "cell_type": "code",
   "execution_count": 22,
   "metadata": {},
   "outputs": [
    {
     "data": {
      "text/plain": [
       "[1, 1, 2, 2, 3]"
      ]
     },
     "execution_count": 22,
     "metadata": {},
     "output_type": "execute_result"
    }
   ],
   "source": [
    "merge_sort(arr, 0, len(arr)-1)"
   ]
  },
  {
   "cell_type": "code",
   "execution_count": 19,
   "metadata": {},
   "outputs": [
    {
     "name": "stdout",
     "output_type": "stream",
     "text": [
      "11.1 µs ± 20.3 ns per loop (mean ± std. dev. of 7 runs, 100000 loops each)\n"
     ]
    }
   ],
   "source": [
    "%timeit sorted_arr = merge_sort(arr, 0, len(arr)-1)"
   ]
  }
 ],
 "metadata": {
  "kernelspec": {
   "display_name": "Python 3",
   "language": "python",
   "name": "python3"
  },
  "language_info": {
   "codemirror_mode": {
    "name": "ipython",
    "version": 3
   },
   "file_extension": ".py",
   "mimetype": "text/x-python",
   "name": "python",
   "nbconvert_exporter": "python",
   "pygments_lexer": "ipython3",
   "version": "3.5.6"
  }
 },
 "nbformat": 4,
 "nbformat_minor": 2
}
