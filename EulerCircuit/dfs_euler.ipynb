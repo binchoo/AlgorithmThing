{
 "cells": [
  {
   "cell_type": "code",
   "execution_count": 5,
   "metadata": {},
   "outputs": [],
   "source": [
    "import numpy as np\n",
    "\n",
    "adj = np.zeros((8, 8))\n",
    "adj[1][2] = adj[2][1] = 1;\n",
    "adj[2][5] = adj[5][2] = 1;\n",
    "adj[4][5] = adj[5][4] = 1;\n",
    "adj[3][4] = adj[4][3] = 1;\n",
    "adj[3][1] = adj[1][3] = 1;\n",
    "adj[5][7] = adj[7][5] = 1;\n",
    "adj[6][7] = adj[7][6] = 1;\n",
    "adj[5][6] = adj[6][5] = 1;"
   ]
  },
  {
   "cell_type": "code",
   "execution_count": 8,
   "metadata": {},
   "outputs": [],
   "source": [
    "def dfs(adj, here) :\n",
    "    for there, edges in enumerate(adj[here]) :\n",
    "        while adj[here][there] > 0 :\n",
    "            adj[here][there] -= 1\n",
    "            adj[there][here] -= 1\n",
    "            dfs(adj, there)\n",
    "    print(\"finish\", here)"
   ]
  },
  {
   "cell_type": "code",
   "execution_count": 9,
   "metadata": {},
   "outputs": [
    {
     "name": "stdout",
     "output_type": "stream",
     "text": [
      "finish 1\n",
      "finish 3\n",
      "finish 4\n",
      "finish 5\n",
      "finish 7\n",
      "finish 6\n",
      "finish 5\n",
      "finish 2\n",
      "finish 1\n"
     ]
    }
   ],
   "source": [
    "dfs(adj.copy(), 1)"
   ]
  },
  {
   "cell_type": "code",
   "execution_count": null,
   "metadata": {},
   "outputs": [],
   "source": []
  }
 ],
 "metadata": {
  "kernelspec": {
   "display_name": "Python 3",
   "language": "python",
   "name": "python3"
  },
  "language_info": {
   "codemirror_mode": {
    "name": "ipython",
    "version": 3
   },
   "file_extension": ".py",
   "mimetype": "text/x-python",
   "name": "python",
   "nbconvert_exporter": "python",
   "pygments_lexer": "ipython3",
   "version": "3.5.6"
  }
 },
 "nbformat": 4,
 "nbformat_minor": 2
}
